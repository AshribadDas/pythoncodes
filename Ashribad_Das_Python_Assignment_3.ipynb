{
  "nbformat": 4,
  "nbformat_minor": 0,
  "metadata": {
    "colab": {
      "provenance": []
    },
    "kernelspec": {
      "name": "python3",
      "display_name": "Python 3"
    },
    "language_info": {
      "name": "python"
    }
  },
  "cells": [
    {
      "cell_type": "code",
      "execution_count": null,
      "metadata": {
        "id": "NbOPGQwRP_5g"
      },
      "outputs": [],
      "source": [
        "#1. check Maximum number of a list of numbers in Python\n",
        "#2. Python Program for factorial of a number\n",
        "#3. Python Program for simple interest\n",
        "#4. Python Program for compound interest\n",
        "#5. Python Program to check Armstrong Number\n",
        "#6. Python Program for Program to find area of a circle\n",
        "#7. Python program to print all Prime numbers in an Interval\n",
        "#8. Python program to check whether a number is Prime or not\n",
        "#9. Python Program for n-th Fibonacci number\n",
        "#10. Python Program for How to check if a given number is Fibonacci number?\n",
        "#11. Python Program for n\\’th multiple of a number in Fibonacci Series\n",
        "#12. Python Program for Sum of squares of first n natural numbers\n",
        "#13. Python Program for cube sum of first n natural numbers"
      ]
    },
    {
      "cell_type": "code",
      "source": [
        "#1. check Maximum number of a list of numbers in Python\n",
        "\n",
        "numbers_input = input(\"Please enter a list of numbers separated by spaces: \")\n",
        "numbers_list = [float(num) for num in numbers_input.split()]\n",
        "max_number = max(numbers_list)\n",
        "print(f\"\\nThe maximum number in the list is: {max_number}\")\n"
      ],
      "metadata": {
        "id": "rOJnSb3pUDeg",
        "colab": {
          "base_uri": "https://localhost:8080/"
        },
        "outputId": "02de6133-ad5a-42c7-a19d-cee25e9325ad"
      },
      "execution_count": null,
      "outputs": [
        {
          "output_type": "stream",
          "name": "stdout",
          "text": [
            "Please enter a list of numbers separated by spaces: 1 2 3 4 5 6 7 8 9 0\n",
            "\n",
            "The maximum number in the list is: 9.0\n"
          ]
        }
      ]
    },
    {
      "cell_type": "code",
      "source": [
        "#2. Python Program for factorial of a number\n",
        "\n",
        "def factorial(n):\n",
        "    if n < 0:\n",
        "        return \"Factorial is not defined for negative numbers.\"\n",
        "    elif n == 0 or n == 1:\n",
        "        return 1\n",
        "    else:\n",
        "        return n * factorial(n - 1)\n",
        "\n",
        "number = int(input(\"Please enter a number to find its factorial: \"))\n",
        "factorial_result = factorial(number)\n",
        "print(f\"The factorial of {number} is: {factorial_result}\")\n",
        "\n"
      ],
      "metadata": {
        "colab": {
          "base_uri": "https://localhost:8080/"
        },
        "id": "q_lutCc_xzw6",
        "outputId": "39de24ed-f80d-49e3-feb9-11dc7416d0dd"
      },
      "execution_count": null,
      "outputs": [
        {
          "output_type": "stream",
          "name": "stdout",
          "text": [
            "Please enter a number to find its factorial: 10\n",
            "The factorial of 10 is: 3628800\n"
          ]
        }
      ]
    },
    {
      "cell_type": "code",
      "source": [
        "#3. Python Program for simple interest\n",
        "\n",
        "def simple_interest(principal, rate, time):\n",
        "    return (principal * rate * time) / 100\n",
        "\n",
        "principal = float(input(\"Enter the principal amount: \"))\n",
        "\n",
        "rate = float(input(\"Enter the annual interest rate (in percentage): \"))\n",
        "\n",
        "time = float(input(\"Enter the time (in years): \"))\n",
        "\n",
        "simpleinterest = simple_interest(principal, rate, time)\n",
        "\n",
        "print(f\"\\nThe simple interest for the given values is: {simpleinterest}\")\n"
      ],
      "metadata": {
        "colab": {
          "base_uri": "https://localhost:8080/"
        },
        "id": "zRuONPk-xz_t",
        "outputId": "d89c017f-c641-4710-ea3f-00e2ec5bc7f0"
      },
      "execution_count": null,
      "outputs": [
        {
          "output_type": "stream",
          "name": "stdout",
          "text": [
            "Enter the principal amount: 100000\n",
            "Enter the annual interest rate (in percentage): 5\n",
            "Enter the time (in years): 1\n",
            "\n",
            "The simple interest for the given values is: 5000.0\n"
          ]
        }
      ]
    },
    {
      "cell_type": "code",
      "source": [
        "#4. Python Program for compound interest\n",
        "\n",
        "def compound_interest(principal, rate, times_compounded, time):\n",
        "    rate_decimal = rate / 100\n",
        "    amount = principal * (1 + rate_decimal / times_compounded) ** (times_compounded * time)\n",
        "    compoundinterest = amount - principal\n",
        "    return compoundinterest\n",
        "\n",
        "principal = float(input(\"Enter the principal amount: \"))\n",
        "rate = float(input(\"Enter the annual interest rate (in percentage): \"))\n",
        "times_compounded = int(input(\"Enter the number of times interest is compounded per year: \"))\n",
        "time = float(input(\"Enter the time (in years): \"))\n",
        "\n",
        "compoundinterest = compound_interest(principal, rate, times_compounded, time)\n",
        "\n",
        "# Printing the result\n",
        "print(f\"\\nThe compound interest for the given values is: {compoundinterest:.2f}\")\n"
      ],
      "metadata": {
        "colab": {
          "base_uri": "https://localhost:8080/"
        },
        "id": "KGaohOfKx0K5",
        "outputId": "3d4bfab9-9555-461a-8e19-60bc0970d9a8"
      },
      "execution_count": null,
      "outputs": [
        {
          "output_type": "stream",
          "name": "stdout",
          "text": [
            "Enter the principal amount: 100000\n",
            "Enter the annual interest rate (in percentage): 10\n",
            "Enter the number of times interest is compounded per year: 3\n",
            "Enter the time (in years): 10\n",
            "\n",
            "The compound interest for the given values is: 167431.88\n"
          ]
        }
      ]
    },
    {
      "cell_type": "code",
      "source": [
        "#5. Python Program to check Armstrong Number\n",
        "\n",
        "def is_armstrong_number(number):\n",
        "    num_str = str(number)\n",
        "    num_digits = len(num_str)\n",
        "    sum_of_powers = sum(int(digit) ** num_digits for digit in num_str)\n",
        "    return sum_of_powers == number\n",
        "\n",
        "number = int(input(\"Enter a number to check if it is an Armstrong number: \"))\n",
        "if is_armstrong_number(number):\n",
        "    print(f\"{number} is an Armstrong number.\")\n",
        "else:\n",
        "    print(f\"{number} is not an Armstrong number.\")\n"
      ],
      "metadata": {
        "colab": {
          "base_uri": "https://localhost:8080/"
        },
        "id": "D-2CwPW4x0VV",
        "outputId": "923eaeb9-d37a-40f1-ae99-871fd7b2eb9d"
      },
      "execution_count": null,
      "outputs": [
        {
          "output_type": "stream",
          "name": "stdout",
          "text": [
            "Enter a number to check if it is an Armstrong number: 123\n",
            "123 is not an Armstrong number.\n"
          ]
        }
      ]
    },
    {
      "cell_type": "code",
      "source": [
        "#6. Python Program for Program to find area of a circle\n",
        "\n",
        "import math\n",
        "radius = float(input(\"Enter the radius of the circle: \"))\n",
        "area = math.pi * (radius ** 2)\n",
        "print(f\"The area of the circle with radius {radius} is: {area:.2f}\")\n"
      ],
      "metadata": {
        "colab": {
          "base_uri": "https://localhost:8080/"
        },
        "id": "lx2Hh1hRx0gg",
        "outputId": "852592dd-3e19-4f32-e6de-662852fea40e"
      },
      "execution_count": null,
      "outputs": [
        {
          "output_type": "stream",
          "name": "stdout",
          "text": [
            "Enter the radius of the circle: 10\n",
            "The area of the circle with radius 10.0 is: 314.16\n"
          ]
        }
      ]
    },
    {
      "cell_type": "code",
      "source": [
        "#7. Python program to print all Prime numbers in an Interval\n",
        "\n",
        "def is_prime(num):\n",
        "    if num <= 1:\n",
        "        return False\n",
        "    if num <= 3:\n",
        "        return True\n",
        "    if num % 2 == 0 or num % 3 == 0:\n",
        "        return False\n",
        "    i = 5\n",
        "    while i * i <= num:\n",
        "        if num % i == 0 or num % (i + 2) == 0:\n",
        "            return False\n",
        "        i += 6\n",
        "    return True\n",
        "\n",
        "start = int(input(\"Enter the start of the interval: \"))\n",
        "end = int(input(\"Enter the end of the interval: \"))\n",
        "\n",
        "print(f\"Prime numbers between {start} and {end} are:\")\n",
        "\n",
        "for num in range(start, end + 1):\n",
        "    if is_prime(num):\n",
        "        print(num, end=\" \")\n"
      ],
      "metadata": {
        "colab": {
          "base_uri": "https://localhost:8080/"
        },
        "id": "nCy8mo_3x0r_",
        "outputId": "de8ee106-6e0c-48cf-d3e0-5cb4dc38c394"
      },
      "execution_count": null,
      "outputs": [
        {
          "output_type": "stream",
          "name": "stdout",
          "text": [
            "Enter the start of the interval: 100\n",
            "Enter the end of the interval: 200\n",
            "Prime numbers between 100 and 200 are:\n",
            "101 103 107 109 113 127 131 137 139 149 151 157 163 167 173 179 181 191 193 197 199 "
          ]
        }
      ]
    },
    {
      "cell_type": "code",
      "source": [
        "#8. Python program to check whether a number is Prime or not\n",
        "\n",
        "def is_prime(num):\n",
        "    if num <= 1:\n",
        "        return False\n",
        "    if num <= 3:\n",
        "        return True\n",
        "    if num % 2 == 0 or num % 3 == 0:\n",
        "        return False\n",
        "    i = 5\n",
        "    while i * i <= num:\n",
        "        if num % i == 0 or num % (i + 2) == 0:\n",
        "            return False\n",
        "        i += 6\n",
        "    return True\n",
        "\n",
        "number = int(input(\"Enter a number to check if it is prime: \"))\n",
        "\n",
        "if is_prime(number):\n",
        "    print(f\"{number} is a prime number.\")\n",
        "else:\n",
        "    print(f\"{number} is not a prime number.\")\n",
        "\n"
      ],
      "metadata": {
        "colab": {
          "base_uri": "https://localhost:8080/"
        },
        "id": "qzX4xpeBx03_",
        "outputId": "188a0bba-6fac-47bc-bc98-9db6db7bb833"
      },
      "execution_count": null,
      "outputs": [
        {
          "output_type": "stream",
          "name": "stdout",
          "text": [
            "Enter a number to check if it is prime: 2\n",
            "2 is a prime number.\n"
          ]
        }
      ]
    },
    {
      "cell_type": "code",
      "source": [
        "#9. Python Program for n-th Fibonacci number\n",
        "\n",
        "def fibonacci_iterative(n):\n",
        "    if n <= 0:\n",
        "        return \"Invalid input. Please enter a positive integer.\"\n",
        "    elif n == 1:\n",
        "        return 0\n",
        "    elif n == 2:\n",
        "        return 1\n",
        "\n",
        "    a, b = 0, 1\n",
        "    for _ in range(2, n):\n",
        "        a, b = b, a + b\n",
        "    return b\n",
        "\n",
        "n = int(input(\"Enter the position of the Fibonacci number you want to find: \"))\n",
        "\n",
        "fib_number = fibonacci_iterative(n)\n",
        "print(f\"The {n}-th Fibonacci number is: {fib_number}\")\n"
      ],
      "metadata": {
        "colab": {
          "base_uri": "https://localhost:8080/"
        },
        "id": "UOKwwidIx1Dr",
        "outputId": "c03871ac-e2d1-4c40-efab-e7287c540714"
      },
      "execution_count": null,
      "outputs": [
        {
          "output_type": "stream",
          "name": "stdout",
          "text": [
            "Enter the position of the Fibonacci number you want to find: 10\n",
            "The 10-th Fibonacci number is: 34\n"
          ]
        }
      ]
    },
    {
      "cell_type": "code",
      "source": [
        "#10. Python Program for How to check if a given number is Fibonacci number?\n",
        "import math\n",
        "def is_perfect_square(n):\n",
        "    if n < 0:\n",
        "        return False\n",
        "    sqrt_n = int(math.sqrt(n))\n",
        "    return sqrt_n * sqrt_n == n\n",
        "\n",
        "\n",
        "def is_fibonacci_number(x):\n",
        "    return is_perfect_square(n)\n",
        "\n",
        "number = int(input(\"Enter a number to check if it is a Fibonacci number: \"))\n",
        "\n",
        "if is_fibonacci_number(number):\n",
        "    print(f\"{number} is a Fibonacci number.\")\n",
        "else:\n",
        "    print(f\"{number} is not a Fibonacci number.\")\n"
      ],
      "metadata": {
        "colab": {
          "base_uri": "https://localhost:8080/"
        },
        "id": "skDqcNKix1Pq",
        "outputId": "ff3a8cfe-2ab8-4032-ec47-063e3ce331af"
      },
      "execution_count": null,
      "outputs": [
        {
          "output_type": "stream",
          "name": "stdout",
          "text": [
            "Enter a number to check if it is a Fibonacci number: 1024\n",
            "1024 is not a Fibonacci number.\n"
          ]
        }
      ]
    },
    {
      "cell_type": "code",
      "source": [
        "#11. Python Program for n\\’th multiple of a number in Fibonacci Series\n",
        "\n",
        "def generate_fibonacci_up_to_count(count):\n",
        "    fib_list = [0, 1]\n",
        "    while len(fib_list) < count:\n",
        "        next_fib = fib_list[-1] + fib_list[-2]\n",
        "        fib_list.append(next_fib)\n",
        "    return fib_list\n",
        "\n",
        "def nth_multiple_of_fibonacci(number, n):\n",
        "    if number <= 0 or n <= 0:\n",
        "        return \"Number and n must be positive integers.\"\n",
        "\n",
        "    count = 0\n",
        "    fib_num = 0\n",
        "    fib_list = []\n",
        "\n",
        "    while count < n:\n",
        "        fib_list = generate_fibonacci_up_to_count(len(fib_list) + 10)  # Generate more Fibonacci numbers\n",
        "        for fib in fib_list:\n",
        "            if fib % number == 0:\n",
        "                count += 1\n",
        "                if count == n:\n",
        "                    fib_num = fib\n",
        "                    return fib_num\n",
        "\n",
        "number = int(input(\"Enter the number to find its multiples in the Fibonacci series: \"))\n",
        "n = int(input(\"Enter the position of the multiple to find: \"))\n",
        "\n",
        "result = nth_multiple_of_fibonacci(number, n)\n",
        "\n",
        "if isinstance(result, int):\n",
        "    print(f\"The {n}-th multiple of {number} in the Fibonacci series is: {result}\")\n",
        "else:\n",
        "    print(result)\n"
      ],
      "metadata": {
        "colab": {
          "base_uri": "https://localhost:8080/"
        },
        "id": "rhdyi4dWx3Ft",
        "outputId": "e90cdab4-694e-40e7-ec95-374796269a83"
      },
      "execution_count": null,
      "outputs": [
        {
          "output_type": "stream",
          "name": "stdout",
          "text": [
            "Enter the number to find its multiples in the Fibonacci series: 5\n",
            "Enter the position of the multiple to find: 36\n",
            "The 36-th multiple of 5 in the Fibonacci series is: 75025\n"
          ]
        }
      ]
    },
    {
      "cell_type": "code",
      "source": [
        "#12. Python Program for Sum of squares of first n natural numbers\n",
        "\n",
        "def sum_of_squares(n):\n",
        "    sum_squares = 0\n",
        "    for i in range(1, n + 1):\n",
        "        sum_squares += i ** 2\n",
        "    return sum_squares\n",
        "\n",
        "n = int(input(\"Enter the value of n: \"))\n",
        "\n",
        "sum_squares = sum_of_squares(n)\n",
        "\n",
        "print(f\"The sum of squares of the first {n} natural numbers is: {sum_squares}\")\n"
      ],
      "metadata": {
        "colab": {
          "base_uri": "https://localhost:8080/"
        },
        "id": "3Hf_zAQcx3Q4",
        "outputId": "ceff1282-25ab-476f-c256-1efdc8285fcc"
      },
      "execution_count": null,
      "outputs": [
        {
          "output_type": "stream",
          "name": "stdout",
          "text": [
            "Enter the value of n: 19\n",
            "The sum of squares of the first 19 natural numbers is: 2470\n"
          ]
        }
      ]
    },
    {
      "cell_type": "code",
      "source": [
        "#13. Python Program for cube sum of first n natural numbers\n",
        "\n",
        "def sum_of_cubes(n):\n",
        "    sum_cubes = 0\n",
        "    for i in range(1, n + 1):\n",
        "        sum_cubes += i ** 3\n",
        "    return sum_cubes\n",
        "\n",
        "n = int(input(\"Enter the value of n: \"))\n",
        "\n",
        "sum_cubes = sum_of_cubes(n)\n",
        "\n",
        "print(f\"The sum of the cubes of the first {n} natural numbers is: {sum_cubes}\")\n"
      ],
      "metadata": {
        "colab": {
          "base_uri": "https://localhost:8080/"
        },
        "id": "BLQa1Nzmx3cB",
        "outputId": "af23ac65-41d6-4b62-81a5-f0e4e3e5f23b"
      },
      "execution_count": null,
      "outputs": [
        {
          "output_type": "stream",
          "name": "stdout",
          "text": [
            "Enter the value of n: 10\n",
            "The sum of the cubes of the first 10 natural numbers is: 3025\n"
          ]
        }
      ]
    },
    {
      "cell_type": "code",
      "source": [],
      "metadata": {
        "id": "YzfVx2XmFm4R"
      },
      "execution_count": null,
      "outputs": []
    }
  ]
}