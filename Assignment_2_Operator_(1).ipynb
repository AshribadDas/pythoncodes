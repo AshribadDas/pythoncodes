{
  "cells": [
    {
      "cell_type": "markdown",
      "id": "697caf9e-6072-490e-8131-e14edf6dcdfe",
      "metadata": {
        "id": "697caf9e-6072-490e-8131-e14edf6dcdfe"
      },
      "source": [
        "### A . Assignment Questions on Operators\n",
        "\n",
        "1. **Arithmetic Operators**\n",
        "    - Write a program that takes two numbers from the user.\n",
        "    - Perform and print the results of addition, subtraction, multiplication, division, and modulus operations.\n",
        "\n",
        "2. **Relational Operators**\n",
        "    - Write a program that takes two numbers from the user.\n",
        "    - Use relational operators (`>`, `<`, `>=`, `<=`, `==`, `!=`) to compare these numbers and print the results.\n",
        "\n",
        "3. **Logical Operators**\n",
        "    - Write a program that takes two boolean values from the user.\n",
        "    - Perform and print the results of logical AND, logical OR, and logical NOT operations.\n",
        "\n",
        "4. **Assignment Operators**\n",
        "    - Write a program that initializes a variable `x` with the value `10`.\n",
        "    - Use assignment operators (`+=`, `-=`, `*=`, `/=`, `%=`, `**=`, `//=`) to modify `x` and print the results after each operation.\n",
        "\n",
        "5. **Bitwise Operators**\n",
        "    - Write a program that takes two integers from the user.\n",
        "    - Perform and print the results of bitwise AND, OR, XOR, NOT, left shift, and right shift operations.\n",
        "\n",
        "6. **Compound Expressions**\n",
        "    - Write a program that evaluates a compound expression involving multiple arithmetic and relational operators.\n",
        "    - Example: Calculate the value of `3 * (x + y) / 2 > z` where `x`, `y`, and `z` are inputs from the user.\n",
        "\n",
        "7. **Membership Operators**\n",
        "    - Write a program that takes a string and a character from the user.\n",
        "    - Use membership operators (`in`, `not in`) to check if the character is present in the string and print the result.\n",
        "\n",
        "8. **Identity Operators**\n",
        "    - Write a program that initializes two lists with the same values.\n",
        "    - Use identity operators (`is`, `is not`) to check if the lists are the same object and print the result.\n",
        "\n",
        "9. **Precedence and Associativity**\n",
        "    - Write a program that demonstrates the precedence and associativity of different operators.\n",
        "    - Example: Evaluate the expression `3 + 4 * 2 / (1 - 5) ** 2` and print the result.\n",
        "\n",
        "10. **Operator Overloading**\n",
        "    - Create a class `Vector` that represents a mathematical vector.\n",
        "    - Implement operator overloading for addition, subtraction, and multiplication (dot product) for `Vector` objects.\n",
        "    - Write a program to demonstrate the usage of these overloaded operators.\n",
        "\n"
      ]
    },
    {
      "cell_type": "markdown",
      "id": "c98161d7-a8cc-468c-a32f-89a9daf812e0",
      "metadata": {
        "id": "c98161d7-a8cc-468c-a32f-89a9daf812e0"
      },
      "source": [
        "### B . Assignment Questions on Python Operators\n",
        "\n",
        "1. **Basic Arithmetic Operations**\n",
        "    - Write a program that asks the user to enter two numbers.\n",
        "    - Perform addition, subtraction, multiplication, division, and modulus operations on these numbers.\n",
        "    - Print the results of each operation.\n",
        "\n",
        "2. **Comparison Operators**\n",
        "    - Write a program that takes two numbers from the user.\n",
        "    - Use comparison operators to determine and print whether the first number is greater than, less than, or equal to the second number.\n",
        "\n",
        "3. **Logical Operators**\n",
        "    - Write a program that takes two boolean values from the user.\n",
        "    - Perform logical AND, OR, and NOT operations on these values.\n",
        "    - Print the results of each operation.\n",
        "\n",
        "4. **Compound Assignment Operators**\n",
        "    - Assign the value `10` to a variable `x`.\n",
        "    - Use compound assignment operators (`+=`, `-=`, `*=`, `/=`, `%=`) to modify the value of `x` and print the result after each operation.\n",
        "\n",
        "5. **Bitwise Operators**\n",
        "    - Write a program that takes two integers from the user.\n",
        "    - Perform bitwise AND, OR, XOR, and NOT operations on these numbers.\n",
        "    - Print the results of each operation.\n",
        "\n",
        "6. **Exponentiation Operator**\n",
        "    - Write a program that asks the user to enter a base and an exponent.\n",
        "    - Calculate and print the result using the exponentiation operator (`**`).\n",
        "\n",
        "7. **Floor Division Operator**\n",
        "    - Write a program that asks the user to enter two numbers.\n",
        "    - Perform floor division on these numbers and print the result.\n",
        "\n",
        "8. **Operator Precedence**\n",
        "    - Write a program that evaluates the following expression and prints the result: \\( 3 + 5 \\times 2 - 8 / 4 \\).\n",
        "    - Explain the order in which the operations are performed.\n",
        "\n",
        "9. **Ternary Operator (Conditional Expression)**\n",
        "    - Write a program that asks the user to enter two numbers.\n",
        "    - Use a ternary operator to determine and print the larger of the two numbers.\n",
        "\n",
        "10. **Membership Operators**\n",
        "    - Write a program that asks the user to enter a character.\n",
        "    - Check if the character is a vowel (a, e, i, o, u) using the `in` operator and print an appropriate message."
      ]
    },
    {
      "cell_type": "code",
      "execution_count": null,
      "id": "db060d41-72af-4f25-9dbe-8fd1f77920b4",
      "metadata": {
        "id": "db060d41-72af-4f25-9dbe-8fd1f77920b4",
        "colab": {
          "base_uri": "https://localhost:8080/"
        },
        "outputId": "12ab4fb7-fcc2-4b0b-dbc1-d2344ee30ab7"
      },
      "outputs": [
        {
          "output_type": "stream",
          "name": "stdout",
          "text": [
            "Enter the first number: 100\n",
            "Enter the second number: 100\n",
            "100.0 + 100.0 = 200.0\n",
            "100.0 - 100.0 = 0.0\n",
            "100.0 * 100.0 = 10000.0\n",
            "100.0 / 100.0 = 1.0\n",
            "100.0 % 100.0 = 0.0\n"
          ]
        }
      ],
      "source": [
        "#A.Assignment Questions on Operators\n",
        "\n",
        "\n",
        "#1.Arithmetic Operators\n",
        "#Write a program that takes two numbers from the user.\n",
        "#Perform and print the results of addition, subtraction, multiplication, division, and modulus operations.\n",
        "\n",
        "def arithmetic_operations(num1, num2):\n",
        "\n",
        "    addition = num1 + num2\n",
        "    print(f\"{num1} + {num2} = {addition}\")\n",
        "\n",
        "\n",
        "    subtraction = num1 - num2\n",
        "    print(f\"{num1} - {num2} = {subtraction}\")\n",
        "\n",
        "\n",
        "    multiplication = num1 * num2\n",
        "    print(f\"{num1} * {num2} = {multiplication}\")\n",
        "\n",
        "\n",
        "    if num2 != 0:\n",
        "        division = num1 / num2\n",
        "        print(f\"{num1} / {num2} = {division}\")\n",
        "    else:\n",
        "        print(\"Division by zero is not allowed.\")\n",
        "\n",
        "    if num2 != 0:\n",
        "        modulus = num1 % num2\n",
        "        print(f\"{num1} % {num2} = {modulus}\")\n",
        "    else:\n",
        "        print(\"Modulus by zero is not allowed.\")\n",
        "\n",
        "# input from the user\n",
        "\n",
        "def main():\n",
        "\n",
        "    try:\n",
        "        num1 = float(input(\"Enter the first number: \"))\n",
        "        num2 = float(input(\"Enter the second number: \"))\n",
        "\n",
        "        arithmetic_operations(num1, num2)\n",
        "\n",
        "    except ValueError:\n",
        "        print(\"Invalid input. Please enter numeric values.\")\n",
        "\n",
        "\n",
        "if __name__ == \"__main__\":\n",
        "    main()\n"
      ]
    },
    {
      "cell_type": "code",
      "source": [
        "#2.Relational Operators\n",
        "#Write a program that takes two numbers from the user.\n",
        "#Use relational operators (>, <, >=, <=, ==, !=) to compare these numbers and print the results.\n",
        "\n",
        "# Function to perform and display relational operations\n",
        "def relational_operations(num1, num2):\n",
        "    print(f\"{num1} > {num2}: {num1 > num2}\")\n",
        "    print(f\"{num1} < {num2}: {num1 < num2}\")\n",
        "    print(f\"{num1} >= {num2}: {num1 >= num2}\")\n",
        "    print(f\"{num1} <= {num2}: {num1 <= num2}\")\n",
        "    print(f\"{num1} == {num2}: {num1 == num2}\")\n",
        "    print(f\"{num1} != {num2}: {num1 != num2}\")\n",
        "def main():\n",
        "    try:\n",
        "        num1 = float(input(\"Enter the first number: \"))\n",
        "        num2 = float(input(\"Enter the second number: \"))\n",
        "        relational_operations(num1, num2)\n",
        "    except ValueError:\n",
        "        print(\"Invalid input. Please enter numeric values.\")\n",
        "if __name__ == \"__main__\":\n",
        "    main()\n"
      ],
      "metadata": {
        "colab": {
          "base_uri": "https://localhost:8080/"
        },
        "id": "bm8YrVYHHWy2",
        "outputId": "989c59b7-aae7-4e2d-fdcb-06fe3af9c535"
      },
      "id": "bm8YrVYHHWy2",
      "execution_count": null,
      "outputs": [
        {
          "output_type": "stream",
          "name": "stdout",
          "text": [
            "Enter the first number: 100\n",
            "Enter the second number: 100\n",
            "100.0 > 100.0: False\n",
            "100.0 < 100.0: False\n",
            "100.0 >= 100.0: True\n",
            "100.0 <= 100.0: True\n",
            "100.0 == 100.0: True\n",
            "100.0 != 100.0: False\n"
          ]
        }
      ]
    },
    {
      "cell_type": "code",
      "source": [
        "#3.Logical Operators\n",
        "#Write a program that takes two boolean values from the user.\n",
        "#Perform and print the results of logical AND, logical OR, and logical NOT operations\n",
        "\n",
        "def logical_operations(bool1, bool2):\n",
        "\n",
        "    and_result = bool1 and bool2\n",
        "    print(f\"{bool1} AND {bool2} = {and_result}\")\n",
        "\n",
        "    or_result = bool1 or bool2\n",
        "    print(f\"{bool1} OR {bool2} = {or_result}\")\n",
        "\n",
        "    not_bool1 = not bool1\n",
        "    not_bool2 = not bool2\n",
        "    print(f\"NOT {bool1} = {not_bool1}\")\n",
        "    print(f\"NOT {bool2} = {not_bool2}\")\n",
        "\n",
        "def main():\n",
        "    try:\n",
        "        bool1 = input(\"Enter the first boolean value (True/False): \").strip().lower() == 'true'\n",
        "        bool2 = input(\"Enter the second boolean value (True/False): \").strip().lower() == 'true'\n",
        "\n",
        "        logical_operations(bool1, bool2)\n",
        "\n",
        "    except ValueError:\n",
        "        print(\"Invalid input. Please enter 'True' or 'False'.\")\n",
        "\n",
        "if __name__ == \"__main__\":\n",
        "    main()"
      ],
      "metadata": {
        "colab": {
          "base_uri": "https://localhost:8080/"
        },
        "id": "i9fA-ZYTLfqT",
        "outputId": "d63b12dd-6a7f-47f7-b452-e2b9ef204676"
      },
      "id": "i9fA-ZYTLfqT",
      "execution_count": null,
      "outputs": [
        {
          "output_type": "stream",
          "name": "stdout",
          "text": [
            "Enter the first boolean value (True/False): False\n",
            "Enter the second boolean value (True/False): True\n",
            "False AND True = False\n",
            "False OR True = True\n",
            "NOT False = True\n",
            "NOT True = False\n"
          ]
        }
      ]
    },
    {
      "cell_type": "code",
      "source": [
        "#4.Assignment Operators\n",
        "\n",
        "#Write a program that initializes a variable x with the value 10.\n",
        "#Use assignment operators (+=, -=, *=, /=, %=, **=, //=) to modify x and print the results after each operation.\n",
        "\n",
        "\n",
        "def assignment_operations():\n",
        "    x = 100\n",
        "    print(f\"Initial value of x: {x}\")\n",
        "\n",
        "    # Add and assign\n",
        "    x += 5\n",
        "    print(f\"x += 5: {x}\")\n",
        "\n",
        "    # Subtract and assign\n",
        "    x -= 3\n",
        "    print(f\"x -= 3: {x}\")\n",
        "\n",
        "    # Multiply and assign\n",
        "    x *= 2\n",
        "    print(f\"x *= 2: {x}\")\n",
        "\n",
        "    # Divide and assign\n",
        "    x /= 4\n",
        "    print(f\"x /= 4: {x}\")\n",
        "\n",
        "    # Modulus and assign\n",
        "    x %= 3\n",
        "    print(f\"x %= 3: {x}\")\n",
        "\n",
        "    # Exponentiation and assign\n",
        "    x **= 2\n",
        "    print(f\"x **= 2: {x}\")\n",
        "\n",
        "    # Floor division and assign\n",
        "    x //= 2\n",
        "    print(f\"x //= 2: {x}\")\n",
        "\n",
        "# Execute the assignment operations function\n",
        "if __name__ == \"__main__\":\n",
        "    assignment_operations()\n"
      ],
      "metadata": {
        "colab": {
          "base_uri": "https://localhost:8080/"
        },
        "id": "yf-gORi9XFFu",
        "outputId": "f3bb8b6a-c3e4-4235-d626-43ef9defed67"
      },
      "id": "yf-gORi9XFFu",
      "execution_count": null,
      "outputs": [
        {
          "output_type": "stream",
          "name": "stdout",
          "text": [
            "Initial value of x: 100\n",
            "x += 5: 105\n",
            "x -= 3: 102\n",
            "x *= 2: 204\n",
            "x /= 4: 51.0\n",
            "x %= 3: 0.0\n",
            "x **= 2: 0.0\n",
            "x //= 2: 0.0\n"
          ]
        }
      ]
    },
    {
      "cell_type": "code",
      "source": [
        "#5.Bitwise Operators\n",
        "\n",
        "#Write a program that takes two integers from the user.\n",
        "#Perform and print the results of bitwise AND, OR, XOR, NOT, left shift, and right shift operations.\n",
        "\n",
        "\n",
        "def bitwise_operations(num1, num2):\n",
        "\n",
        "    and_result = num1 & num2\n",
        "    print(f\"{num1} & {num2} = {and_result}\")\n",
        "\n",
        "    or_result = num1 | num2\n",
        "    print(f\"{num1} | {num2} = {or_result}\")\n",
        "\n",
        "    xor_result = num1 ^ num2\n",
        "    print(f\"{num1} ^ {num2} = {xor_result}\")\n",
        "\n",
        "    not_num1 = ~num1\n",
        "    not_num2 = ~num2\n",
        "    print(f\"~{num1} = {not_num1}\")\n",
        "    print(f\"~{num2} = {not_num2}\")\n",
        "\n",
        "    left_shift_num1 = num1 << 2\n",
        "    left_shift_num2 = num2 << 2\n",
        "    print(f\"{num1} << 2 = {left_shift_num1}\")\n",
        "    print(f\"{num2} << 2 = {left_shift_num2}\")\n",
        "\n",
        "    right_shift_num1 = num1 >> 2\n",
        "    right_shift_num2 = num2 >> 2\n",
        "    print(f\"{num1} >> 2 = {right_shift_num1}\")\n",
        "    print(f\"{num2} >> 2 = {right_shift_num2}\")\n",
        "\n",
        "\n",
        "def main():\n",
        "\n",
        "    try:\n",
        "        num1 = int(input(\"Enter the first integer: \"))\n",
        "        num2 = int(input(\"Enter the second integer: \"))\n",
        "        bitwise_operations(num1, num2)\n",
        "\n",
        "    except ValueError:\n",
        "        print(\"Invalid input. Please enter integer values.\")\n",
        "\n",
        "if __name__ == \"__main__\":\n",
        "    main()\n",
        "\n"
      ],
      "metadata": {
        "colab": {
          "base_uri": "https://localhost:8080/"
        },
        "id": "KzjqMHVDXfM2",
        "outputId": "e2e13b33-ffb7-4f31-f13e-e37b5bd274b4"
      },
      "id": "KzjqMHVDXfM2",
      "execution_count": null,
      "outputs": [
        {
          "output_type": "stream",
          "name": "stdout",
          "text": [
            "Enter the first integer: 100\n",
            "Enter the second integer: 100\n",
            "100 & 100 = 100\n",
            "100 | 100 = 100\n",
            "100 ^ 100 = 0\n",
            "~100 = -101\n",
            "~100 = -101\n",
            "100 << 2 = 400\n",
            "100 << 2 = 400\n",
            "100 >> 2 = 25\n",
            "100 >> 2 = 25\n"
          ]
        }
      ]
    },
    {
      "cell_type": "code",
      "source": [
        "#6.Exponentiation Operator\n",
        "\n",
        "#Write a program that asks the user to enter a base and an exponent.\n",
        "#Calculate and print the result using the exponentiation operator (**).\n",
        "\n",
        "def evaluate_expression(x, y, z):\n",
        "    result = 3 * (x + y) / 2 > z\n",
        "    print(f\"3 * ({x} + {y}) / 2 > {z} is {result}\")\n",
        "\n",
        "def main():\n",
        "    try:\n",
        "\n",
        "        x = float(input(\"Enter the value for x: \"))\n",
        "        y = float(input(\"Enter the value for y: \"))\n",
        "        z = float(input(\"Enter the value for z: \"))\n",
        "\n",
        "        evaluate_expression(x, y, z)\n",
        "\n",
        "    except ValueError:\n",
        "        print(\"Invalid input. Please enter numeric values.\")\n",
        "\n",
        "if __name__ == \"__main__\":\n",
        "    main()\n",
        "\n"
      ],
      "metadata": {
        "colab": {
          "base_uri": "https://localhost:8080/"
        },
        "id": "b3Zb3EISYAoA",
        "outputId": "c4c451b1-a937-4629-856d-780dd1be7227"
      },
      "id": "b3Zb3EISYAoA",
      "execution_count": null,
      "outputs": [
        {
          "output_type": "stream",
          "name": "stdout",
          "text": [
            "Enter the value for x: 10\n",
            "Enter the value for y: 5\n",
            "Enter the value for z: 2\n",
            "3 * (10.0 + 5.0) / 2 > 2.0 is True\n"
          ]
        }
      ]
    },
    {
      "cell_type": "code",
      "source": [
        "#7.Membership Operators\n",
        "\n",
        "#Write a program that takes a string and a character from the user.\n",
        "#Use membership operators (in, not in) to check if the character is present in the string and print the result.\n",
        "\n",
        "def check_membership(string, char):\n",
        "\n",
        "    in_result = char in string\n",
        "    print(f\"'{char}' in '{string}' = {in_result}\")\n",
        "\n",
        "    not_in_result = char not in string\n",
        "    print(f\"'{char}' not in '{string}' = {not_in_result}\")\n",
        "\n",
        "def main():\n",
        "\n",
        "    string = input(\"Enter a string: \")\n",
        "    char = input(\"Enter a character: \")\n",
        "\n",
        "    if len(char) != 1:\n",
        "        print(\"Please enter exactly one character.\")\n",
        "    else:\n",
        "          check_membership(string, char)\n",
        "\n",
        "\n",
        "if __name__ == \"__main__\":\n",
        "    main()\n"
      ],
      "metadata": {
        "colab": {
          "base_uri": "https://localhost:8080/"
        },
        "id": "EuZ-IhvSg1Wi",
        "outputId": "9df9325a-18a0-4df1-a1fd-7c57ab6c6bbc"
      },
      "id": "EuZ-IhvSg1Wi",
      "execution_count": null,
      "outputs": [
        {
          "output_type": "stream",
          "name": "stdout",
          "text": [
            "Enter a string: datascience\n",
            "Enter a character: a\n",
            "'a' in 'datascience' = True\n",
            "'a' not in 'datascience' = False\n"
          ]
        }
      ]
    },
    {
      "cell_type": "code",
      "source": [
        "#8.Identity Operators\n",
        "\n",
        "#Write a program that initializes two lists with the same values.\n",
        "#Use identity operators (is, is not) to check if the lists are the same object and print the result.\n",
        "\n",
        "\n",
        "list1 = [1, 2, 3, 4, 5]\n",
        "list2 = [1, 2, 3, 4, 5]\n",
        "\n",
        "# To check if the lists are the same object\n",
        "same_object = list1 is list2\n",
        "different_object = list1 is not list2\n",
        "\n",
        "print(f\"list1 is list2: {same_object}\")\n",
        "print(f\"list1 is not list2: {different_object}\")\n"
      ],
      "metadata": {
        "id": "3H9Y0gUGiOH3",
        "colab": {
          "base_uri": "https://localhost:8080/"
        },
        "outputId": "f3a0c649-2311-4e21-e460-b92078007e29"
      },
      "id": "3H9Y0gUGiOH3",
      "execution_count": null,
      "outputs": [
        {
          "output_type": "stream",
          "name": "stdout",
          "text": [
            "list1 is list2: False\n",
            "list1 is not list2: True\n"
          ]
        }
      ]
    },
    {
      "cell_type": "code",
      "source": [
        "#9.Precedence and Associativity\n",
        "#Write a program that demonstrates the precedence and associativity of different operators.\n",
        "#Example: Evaluate the expression 3 + 4 * 2 / (1 - 5) ** 2 and print the result.\n",
        "\n",
        "\n",
        "expression = 3 + 4 * 2 / (1 - 5) ** 2\n",
        "print(f\"The result of the expression 3 + 4 * 2 / (1 - 5) ** 2 is: {expression}\")\n",
        "\n",
        "\n",
        "#Example:\n",
        "#Parentheses () have the highest . 1 - 5 is evaluated first which is equal to -4.\n",
        "#Exponentiation ** is the next, so (-4) ** 2 is calculated ,which is equal to 16.\n",
        "# Multiplication * and division / have the same precedence . So they are evaluated from left to right associativity. So , 4 * 2 is evaluated first , this ios equal to  8 , and then 8 / 16 is 0.5.\n",
        "# Addition + is last precedence . So 3 + 0.5 is equal to 3.5.\n"
      ],
      "metadata": {
        "colab": {
          "base_uri": "https://localhost:8080/"
        },
        "id": "Lbsd9fnMWS_c",
        "outputId": "338946c9-3621-4ab1-fc4b-2af0327f9ed3"
      },
      "id": "Lbsd9fnMWS_c",
      "execution_count": null,
      "outputs": [
        {
          "output_type": "stream",
          "name": "stdout",
          "text": [
            "The result of the expression 3 + 4 * 2 / (1 - 5) ** 2 is: 3.5\n"
          ]
        }
      ]
    },
    {
      "cell_type": "markdown",
      "source": [],
      "metadata": {
        "id": "zCbrIH5g1qVP"
      },
      "id": "zCbrIH5g1qVP"
    },
    {
      "cell_type": "code",
      "source": [
        "#10.Operator Overloading\n",
        "#Create a class Vector that represents a mathematical vector.\n",
        "#Implement operator overloading for addition, subtraction, and multiplication (dot product) for Vector objects.\n",
        "#Write a program to demonstrate the usage of these overloaded operators.\n",
        "\n",
        "class Vector:\n",
        "    def __init__(self, x, y):\n",
        "        self.x = x\n",
        "        self.y = y\n",
        "\n",
        "    def __add__(self, other):\n",
        "        return Vector(self.x + other.x, self.y + other.y)\n",
        "\n",
        "    def __sub__(self, other):\n",
        "        return Vector(self.x - other.x, self.y - other.y)\n",
        "\n",
        "    def __mul__(self, other):\n",
        "        return self.x * other.x + self.y * other.y\n",
        "\n",
        "    def __repr__(self):\n",
        "        return f\"Vector({self.x}, {self.y})\"\n",
        "\n",
        "# Program to demonstrate the usage of overloaded operators\n",
        "vector1 = Vector(2, 3)\n",
        "vector2 = Vector(4, 5)\n",
        "\n",
        "# Vector addition\n",
        "addition_result = vector1 + vector2\n",
        "print(f\"Addition of {vector1} and {vector2} is {addition_result}\")\n",
        "\n",
        "# Vector subtraction\n",
        "subtraction_result = vector1 - vector2\n",
        "print(f\"Subtraction of {vector1} and {vector2} is {subtraction_result}\")\n",
        "\n",
        "# Dot product\n",
        "dot_product_result = vector1 * vector2\n",
        "print(f\"Dot product of {vector1} and {vector2} is {dot_product_result}\")\n"
      ],
      "metadata": {
        "colab": {
          "base_uri": "https://localhost:8080/"
        },
        "id": "qeFIYdt4W2MF",
        "outputId": "496ebb6c-3c57-49ae-9f8d-122ba52a200a"
      },
      "id": "qeFIYdt4W2MF",
      "execution_count": null,
      "outputs": [
        {
          "output_type": "stream",
          "name": "stdout",
          "text": [
            "Addition of Vector(2, 3) and Vector(4, 5) is Vector(6, 8)\n",
            "Subtraction of Vector(2, 3) and Vector(4, 5) is Vector(-2, -2)\n",
            "Dot product of Vector(2, 3) and Vector(4, 5) is 23\n"
          ]
        }
      ]
    },
    {
      "cell_type": "code",
      "source": [
        "# B . Assignment Questions on Python Operators\n",
        "\n",
        "#1.Basic Arithmetic Operations\n",
        "#Write a program that asks the user to enter two numbers.\n",
        "#Perform addition, subtraction, multiplication, division, and modulus operations on these numbers.\n",
        "#Print the results of each operation.\n",
        "\n",
        "\n",
        "\n",
        "number1 = float(input(\"Please enter the first number: \"))\n",
        "number2 = float(input(\"Please enter the second number: \"))\n",
        "\n",
        "addition = number1 + number2\n",
        "subtraction = number1 - number2\n",
        "multiplication = number1 * number2\n",
        "division = number1 / number2 if number2 != 0 else \"undefined (division by zero)\"\n",
        "modulus = number1 % number2 if number2 != 0 else \"undefined (modulus by zero)\"\n",
        "\n",
        "print(\"\\nResults of arithmetic operations:\")\n",
        "print(f\"Addition: {number1} + {number2} = {addition}\")\n",
        "print(f\"Subtraction: {number1} - {number2} = {subtraction}\")\n",
        "print(f\"Multiplication: {number1} * {number2} = {multiplication}\")\n",
        "print(f\"Division: {number1} / {number2} = {division}\")\n",
        "print(f\"Modulus: {number1} % {number2} = {modulus}\")\n"
      ],
      "metadata": {
        "id": "AB_P8ihSZTHI",
        "colab": {
          "base_uri": "https://localhost:8080/"
        },
        "outputId": "25b95cc9-20fe-4860-e17f-dc538d09ab5d"
      },
      "id": "AB_P8ihSZTHI",
      "execution_count": null,
      "outputs": [
        {
          "output_type": "stream",
          "name": "stdout",
          "text": [
            "Please enter the first number: 100\n",
            "Please enter the second number: 100\n",
            "\n",
            "Results of arithmetic operations:\n",
            "Addition: 100.0 + 100.0 = 200.0\n",
            "Subtraction: 100.0 - 100.0 = 0.0\n",
            "Multiplication: 100.0 * 100.0 = 10000.0\n",
            "Division: 100.0 / 100.0 = 1.0\n",
            "Modulus: 100.0 % 100.0 = 0.0\n"
          ]
        }
      ]
    },
    {
      "cell_type": "code",
      "source": [
        "#2.Comparison Operators\n",
        "\n",
        "#Write a program that takes two numbers from the user.\n",
        "#Use comparison operators to determine and print whether the first number is greater than, less than, or equal to the second number.\n",
        "\n",
        "\n",
        "number1 = float(input(\"Please enter the first number: \"))\n",
        "number2 = float(input(\"Please enter the second number: \"))\n",
        "\n",
        "if number1 > number2:\n",
        "    comparison = \"greater than\"\n",
        "elif number1 < number2:\n",
        "    comparison = \"less than\"\n",
        "else:\n",
        "    comparison = \"equal to\"\n",
        "\n",
        "print(f\"\\nThe first number ({number1}) is {comparison} the second number ({number2}).\")\n",
        "\n"
      ],
      "metadata": {
        "colab": {
          "base_uri": "https://localhost:8080/"
        },
        "id": "dy34UbNm27Jd",
        "outputId": "151177c8-2efa-4567-ffd1-b478d1960a72"
      },
      "id": "dy34UbNm27Jd",
      "execution_count": null,
      "outputs": [
        {
          "output_type": "stream",
          "name": "stdout",
          "text": [
            "Please enter the first number: 100\n",
            "Please enter the second number: 100\n",
            "\n",
            "The first number (100.0) is equal to the second number (100.0).\n"
          ]
        }
      ]
    },
    {
      "cell_type": "code",
      "source": [
        "#3.Logical Operators\n",
        "#Write a program that takes two boolean values from the user.\n",
        "#Perform logical AND, OR, and NOT operations on these values.\n",
        "#Print the results of each operation.\n",
        "\n",
        "bool1_input = input(\"Please enter the first boolean value (True/False): \").strip().lower()\n",
        "bool1 = True if bool1_input == \"true\" else False\n",
        "\n",
        "\n",
        "bool2_input = input(\"Please enter the second boolean value (True/False): \").strip().lower()\n",
        "bool2 = True if bool2_input == \"true\" else False\n",
        "\n",
        "and_operation = bool1 and bool2\n",
        "or_operation = bool1 or bool2\n",
        "not_bool1 = not bool1\n",
        "not_bool2 = not bool2\n",
        "\n",
        "print(\"\\nResults of logical operations:\")\n",
        "print(f\"{bool1} AND {bool2} = {and_operation}\")\n",
        "print(f\"{bool1} OR {bool2} = {or_operation}\")\n",
        "print(f\"NOT {bool1} = {not_bool1}\")\n",
        "print(f\"NOT {bool2} = {not_bool2}\")\n"
      ],
      "metadata": {
        "colab": {
          "base_uri": "https://localhost:8080/"
        },
        "id": "0by67C-a52Ds",
        "outputId": "6961a489-8cf5-486d-e8e9-2760691747f0"
      },
      "id": "0by67C-a52Ds",
      "execution_count": null,
      "outputs": [
        {
          "output_type": "stream",
          "name": "stdout",
          "text": [
            "Please enter the first boolean value (True/False): True\n",
            "Please enter the second boolean value (True/False): False\n",
            "\n",
            "Results of logical operations:\n",
            "True AND False = False\n",
            "True OR False = True\n",
            "NOT True = False\n",
            "NOT False = True\n"
          ]
        }
      ]
    },
    {
      "cell_type": "code",
      "source": [
        "#4.Compound Assignment Operators\n",
        "#Assign the value 10 to a variable x.\n",
        "#Use compound assignment operators (+=, -=, *=, /=, %=) to modify the value of x and print the result after each operation.\n",
        "# Program to demonstrate compound assignment operators\n",
        "\n",
        "\n",
        "x = 10\n",
        "print(f\"Initial value of x: {x}\")\n",
        "\n",
        "x += 5\n",
        "print(f\"After x += 5, x = {x}\")\n",
        "\n",
        "x -= 3\n",
        "print(f\"After x -= 3, x = {x}\")\n",
        "\n",
        "x *= 2\n",
        "print(f\"After x *= 2, x = {x}\")\n",
        "\n",
        "x /= 4\n",
        "print(f\"After x /= 4, x = {x}\")\n",
        "\n",
        "x %= 3\n",
        "print(f\"After x %= 3, x = {x}\")\n",
        "\n"
      ],
      "metadata": {
        "colab": {
          "base_uri": "https://localhost:8080/"
        },
        "id": "kNf8_8n36bwf",
        "outputId": "33343dbb-a4ca-47f3-d8f8-bff58c490ac6"
      },
      "id": "kNf8_8n36bwf",
      "execution_count": null,
      "outputs": [
        {
          "output_type": "stream",
          "name": "stdout",
          "text": [
            "Initial value of x: 10\n",
            "After x += 5, x = 15\n",
            "After x -= 3, x = 12\n",
            "After x *= 2, x = 24\n",
            "After x /= 4, x = 6.0\n",
            "After x %= 3, x = 0.0\n"
          ]
        }
      ]
    },
    {
      "cell_type": "code",
      "source": [
        "#5.Bitwise Operators\n",
        "#Write a program that takes two integers from the user.\n",
        "#Perform bitwise AND, OR, XOR, and NOT operations on these numbers.\n",
        "#Print the results of each operation.\n",
        "\n",
        "number1 = int(input(\"Please enter the first integer: \"))\n",
        "number2 = int(input(\"Please enter the second integer: \"))\n",
        "\n",
        "bitwise_and = number1 & number2\n",
        "bitwise_or = number1 | number2\n",
        "bitwise_xor = number1 ^ number2\n",
        "bitwise_not_number1 = ~number1\n",
        "bitwise_not_number2 = ~number2\n",
        "\n",
        "print(\"\\nResults of bitwise operations:\")\n",
        "print(f\"{number1} & {number2} = {bitwise_and}\")\n",
        "print(f\"{number1} | {number2} = {bitwise_or}\")\n",
        "print(f\"{number1} ^ {number2} = {bitwise_xor}\")\n",
        "print(f\"~{number1} = {bitwise_not_number1}\")\n",
        "print(f\"~{number2} = {bitwise_not_number2}\")\n"
      ],
      "metadata": {
        "colab": {
          "base_uri": "https://localhost:8080/"
        },
        "id": "XHFPtxLf61Oj",
        "outputId": "6c70ef63-b391-4ef4-c181-6f338af4eea2"
      },
      "id": "XHFPtxLf61Oj",
      "execution_count": null,
      "outputs": [
        {
          "output_type": "stream",
          "name": "stdout",
          "text": [
            "Please enter the first integer: 100\n",
            "Please enter the second integer: 100\n",
            "\n",
            "Results of bitwise operations:\n",
            "100 & 100 = 100\n",
            "100 | 100 = 100\n",
            "100 ^ 100 = 0\n",
            "~100 = -101\n",
            "~100 = -101\n"
          ]
        }
      ]
    },
    {
      "cell_type": "code",
      "source": [
        "#6.Exponentiation Operator\n",
        "\n",
        "#Write a program that asks the user to enter a base and an exponent.\n",
        "#Calculate and print the result using the exponentiation operator (**).\n",
        "\n",
        "base = float(input(\"Please enter the base: \"))\n",
        "exponent = float(input(\"Please enter the exponent: \"))\n",
        "result = base ** exponent\n",
        "print(f\"\\n{base} raised to the power of {exponent} is {result}.\")\n"
      ],
      "metadata": {
        "colab": {
          "base_uri": "https://localhost:8080/"
        },
        "id": "G2z1rwF17Pkv",
        "outputId": "48f038ac-2e4c-4b9b-a0f4-f18f772b8d32"
      },
      "id": "G2z1rwF17Pkv",
      "execution_count": null,
      "outputs": [
        {
          "output_type": "stream",
          "name": "stdout",
          "text": [
            "Please enter the base: 10\n",
            "Please enter the exponent: 10\n",
            "\n",
            "10.0 raised to the power of 10.0 is 10000000000.0.\n"
          ]
        }
      ]
    },
    {
      "cell_type": "code",
      "source": [
        "#7.Floor Division Operator\n",
        "\n",
        "#Write a program that asks the user to enter two numbers.\n",
        "#Perform floor division on these numbers and print the result.\n",
        "\n",
        "number1 = float(input(\"Please enter the first number: \"))\n",
        "number2 = float(input(\"Please enter the second number: \"))\n",
        "\n",
        "if number2 != 0:\n",
        "    floor_division_result = number1 // number2\n",
        "    print(f\"\\n{number1} // {number2} = {floor_division_result}\")\n",
        "else:\n",
        "    print(\"\\nDivision by zero is undefined.\")\n"
      ],
      "metadata": {
        "colab": {
          "base_uri": "https://localhost:8080/"
        },
        "id": "AIX4EWlWubbQ",
        "outputId": "aa0ca61f-4a49-4d17-aeca-4bf24a5ef84e"
      },
      "id": "AIX4EWlWubbQ",
      "execution_count": null,
      "outputs": [
        {
          "output_type": "stream",
          "name": "stdout",
          "text": [
            "Please enter the first number: 100\n",
            "Please enter the second number: 1\n",
            "\n",
            "100.0 // 1.0 = 100.0\n"
          ]
        }
      ]
    },
    {
      "cell_type": "code",
      "source": [
        "#8.Operator Precedence\n",
        "\n",
        "#Write a program that evaluates the following expression and prints the result: ( 3 + 5 \\times 2 - 8 / 4 ).\n",
        "#Explain the order in which the operations are performed.\n",
        "\n",
        "result = (3 + 5 * 2 - 8 / 4)\n",
        "print(f\"The result of the expression (3 + 5 * 2 - 8 / 4) is: {result}\")\n",
        "\n",
        "#The order of the operations is based on the precedence rule in Python (left-to-right associativity).\n",
        "\n",
        "#Multiplication and Division (* and /) have higher precedence than addition and subtraction (+ and -). They are performed first from left to right.\n",
        "\n",
        "#Addition and Subtraction (+ and -) are then performed from left to right.\n",
        "\n"
      ],
      "metadata": {
        "colab": {
          "base_uri": "https://localhost:8080/"
        },
        "id": "10xVth_zvUak",
        "outputId": "72191989-a052-463d-c6df-11f45c16cf82"
      },
      "id": "10xVth_zvUak",
      "execution_count": null,
      "outputs": [
        {
          "output_type": "stream",
          "name": "stdout",
          "text": [
            "The result of the expression (3 + 5 * 2 - 8 / 4) is: 11.0\n"
          ]
        }
      ]
    },
    {
      "cell_type": "code",
      "source": [
        "#9.Ternary Operator (Conditional Expression)\n",
        "\n",
        "#Write a program that asks the user to enter two numbers.\n",
        "#Use a ternary operator to determine and print the larger of the two numbers.\n",
        "\n",
        "number1 = float(input(\"Please enter the first number: \"))\n",
        "number2 = float(input(\"Please enter the second number: \"))\n",
        "\n",
        "larger_number = number1 if number1 > number2 else number2\n",
        "\n",
        "print(f\"\\nThe larger of the two numbers is: {larger_number}\")\n"
      ],
      "metadata": {
        "colab": {
          "base_uri": "https://localhost:8080/"
        },
        "id": "eN4OfZgPwhS3",
        "outputId": "606a3c91-62cd-4697-cbb9-de3e7b74e2c0"
      },
      "id": "eN4OfZgPwhS3",
      "execution_count": null,
      "outputs": [
        {
          "output_type": "stream",
          "name": "stdout",
          "text": [
            "Please enter the first number: 100\n",
            "Please enter the second number: 100\n",
            "\n",
            "The larger of the two numbers is: 100.0\n"
          ]
        }
      ]
    },
    {
      "cell_type": "code",
      "source": [
        "#10.Membership Operators\n",
        "\n",
        "#Write a program that asks the user to enter a character.\n",
        "#Check if the character is a vowel (a, e, i, o, u) using the in operator and print an appropriate message.\n",
        "\n",
        "char = input(\"Please enter a character: \").lower()\n",
        "vowels = {'a', 'e', 'i', 'o', 'u'}\n",
        "\n",
        "if char in vowels:\n",
        "    print(f\"The character '{char}' is a vowel.\")\n",
        "else:\n",
        "    print(f\"The character '{char}' is not a vowel.\")\n"
      ],
      "metadata": {
        "colab": {
          "base_uri": "https://localhost:8080/"
        },
        "id": "PXDsNwoVw_CE",
        "outputId": "47e6cd58-95a1-4eb6-b536-e1f12640d192"
      },
      "id": "PXDsNwoVw_CE",
      "execution_count": null,
      "outputs": [
        {
          "output_type": "stream",
          "name": "stdout",
          "text": [
            "Please enter a character: a\n",
            "The character 'a' is a vowel.\n"
          ]
        }
      ]
    },
    {
      "cell_type": "code",
      "source": [],
      "metadata": {
        "id": "_EWbSKuqxe0y"
      },
      "id": "_EWbSKuqxe0y",
      "execution_count": null,
      "outputs": []
    }
  ],
  "metadata": {
    "kernelspec": {
      "display_name": "Python 3 (ipykernel)",
      "language": "python",
      "name": "python3"
    },
    "language_info": {
      "codemirror_mode": {
        "name": "ipython",
        "version": 3
      },
      "file_extension": ".py",
      "mimetype": "text/x-python",
      "name": "python",
      "nbconvert_exporter": "python",
      "pygments_lexer": "ipython3",
      "version": "3.11.7"
    },
    "colab": {
      "provenance": []
    }
  },
  "nbformat": 4,
  "nbformat_minor": 5
}